{
 "cells": [
  {
   "cell_type": "markdown",
   "metadata": {},
   "source": [
    "IDEAS TO ADD\n",
    "1.make all the movie title extractors as function and may call them if needed\n",
    "2.do a manual type search on imdb and for a given movie take out the recommended movie list by imdb itself\n",
    "3.setup some initial list of favourite cast and director and give the appearance a priority as maybe just by names they are not being sorted else may need to use difflib\n",
    "4.add all code to python cheat sheet"
   ]
  },
  {
   "cell_type": "markdown",
   "metadata": {
    "id": "cDnPLpwDHixd"
   },
   "source": [
    "Importing necessary libraries"
   ]
  },
  {
   "cell_type": "code",
   "execution_count": 1,
   "metadata": {
    "id": "B0wYZxBVAXl_"
   },
   "outputs": [],
   "source": [
    "import numpy as np\n",
    "import pandas as pd\n",
    "import difflib\n",
    "from sklearn.feature_extraction.text import TfidfVectorizer\n",
    "from sklearn.metrics.pairwise import cosine_similarity\n",
    "from flask import Flask, request, jsonify"
   ]
  },
  {
   "cell_type": "markdown",
   "metadata": {
    "id": "F7eWM3nDIPRr"
   },
   "source": [
    "Data collection"
   ]
  },
  {
   "cell_type": "markdown",
   "metadata": {
    "id": "Rwlf-5uoSfQx"
   },
   "source": [
    "1.we are finally creating a particular list of movies and then comparing there features, thus we can't compare one movie name with all movies on web"
   ]
  },
  {
   "cell_type": "code",
   "execution_count": 2,
   "metadata": {
    "id": "hlSWjMpPA0WV"
   },
   "outputs": [],
   "source": [
    "#!pip install ipykernel\n",
    "#!pip install selenium\n",
    "# !apt-get update\n",
    "# !apt install -y chromium-chromedriver"
   ]
  },
  {
   "cell_type": "code",
   "execution_count": 3,
   "metadata": {},
   "outputs": [],
   "source": [
    "from selenium import webdriver\n",
    "from selenium.webdriver.chrome.service import Service\n",
    "from selenium.webdriver.chrome.options import Options\n"
   ]
  },
  {
   "cell_type": "code",
   "execution_count": null,
   "metadata": {
    "colab": {
     "base_uri": "https://localhost:8080/",
     "height": 217
    },
    "id": "zAhFhKEsHsx6",
    "outputId": "5307461a-d1f0-4e70-ab32-5a3236cac245"
   },
   "outputs": [],
   "source": [
    "# # Set up Chrome options\n",
    "# chrome_options = Options()\n",
    "# chrome_options.add_argument('--headless')  # Run Chrome in headless mode (optional)\n",
    "\n",
    "# # Set up Chrome service (no need to specify the executable path)\n",
    "# chrome_service = Service('/usr/lib/chromium-browser/chromedriver')  # Change the path accordingly\n",
    "\n",
    "# # Start ChromeDriver using the service and options\n",
    "# driver = webdriver.Chrome(service=chrome_service, options=chrome_options)\n"
   ]
  },
  {
   "cell_type": "markdown",
   "metadata": {},
   "source": [
    "Taking the input movie"
   ]
  },
  {
   "cell_type": "code",
   "execution_count": 5,
   "metadata": {},
   "outputs": [],
   "source": [
    "# input_movie_name = input(\"Enter the Name of the Movie: \")\n",
    "input_movie_name=\"Interstellar\""
   ]
  },
  {
   "cell_type": "code",
   "execution_count": 6,
   "metadata": {},
   "outputs": [
    {
     "name": "stdout",
     "output_type": "stream",
     "text": [
      "Adventure, Drama, Sci-Fi\n"
     ]
    }
   ],
   "source": [
    "import requests\n",
    "\n",
    "# https://www.omdbapi.com/?t=3+Idiots&y=2009&plot=full&apikey=c71443cd\n",
    "# Replace 'YOUR_API_KEY' with your actual OMDB API key\n",
    "api_key = 'c71443cd'\n",
    "\n",
    "# # Movie title you want to search for\n",
    "# movie_name = 'Interstellar'\n",
    "movie_name = input_movie_name.replace(' ','+')\n",
    "\n",
    "# URL of the OMDB API\n",
    "url = f'http://www.omdbapi.com/?t={movie_name}&plot=full&apikey={api_key}' #full to get a full fleged description\n",
    "\n",
    "# Make the API request\n",
    "response = requests.get(url)\n",
    "movie_data = response.json() #dictionary\n",
    "\n",
    "# # # Iterate over the dictionary items and print them line by line\n",
    "# # for key, value in movie_data.items():\n",
    "# #     print(f\"{key}: {value}\")\n",
    "\n",
    "# Check if the request was successful\n",
    "if response.status_code == 200:\n",
    "    # Parse the JSON response\n",
    "    movie_data = response.json()\n",
    "\n",
    "    # Check if the movie was found\n",
    "    if movie_data['Response'] == 'True':\n",
    "        # Extract the movie details from the response\n",
    "        genre_of_input = movie_data['Genre']\n",
    "print(genre_of_input)\n",
    "data_array = genre_of_input.split(', ')"
   ]
  },
  {
   "cell_type": "markdown",
   "metadata": {},
   "source": [
    "Using selenium and webdriver to extract titles from imdb top 250"
   ]
  },
  {
   "cell_type": "code",
   "execution_count": 17,
   "metadata": {
    "colab": {
     "base_uri": "https://localhost:8080/",
     "height": 432
    },
    "id": "AIexBRAeZc6q",
    "outputId": "10dc2461-962b-4a3e-d93c-ee165e691823"
   },
   "outputs": [
    {
     "name": "stdout",
     "output_type": "stream",
     "text": [
      "Movie titles from IMDb Top 250:\n",
      "['1. The Shawshank Redemption', '2. The Godfather', '3. The Dark Knight', '4. The Godfather Part II', '5. 12 Angry Men', \"6. Schindler's List\", '7. The Lord of the Rings: The Return of the King', '8. Pulp Fiction', '9. The Lord of the Rings: The Fellowship of the Ring', '10. The Good, the Bad and the Ugly', '11. Forrest Gump', '12. Fight Club', '13. The Lord of the Rings: The Two Towers', '14. Inception', '15. Star Wars: Episode V - The Empire Strikes Back', '16. The Matrix', '17. Goodfellas', \"18. One Flew Over the Cuckoo's Nest\", '19. Se7en', \"20. It's a Wonderful Life\", '21. Seven Samurai', '22. Interstellar', '23. The Silence of the Lambs', '24. Saving Private Ryan', '25. City of God', '26. Life Is Beautiful', '27. The Green Mile', '28. Spider-Man: Across the Spider-Verse', '29. Star Wars: Episode IV - A New Hope', '30. Terminator 2: Judgment Day', '31. Back to the Future', '32. Spirited Away', '33. The Pianist', '34. Psycho', '35. Parasite', '36. Gladiator', '37. The Lion King', '38. Léon: The Professional', '39. American History X', '40. The Departed', '41. Whiplash', '42. The Prestige', '43. Grave of the Fireflies', '44. The Usual Suspects', '45. Harakiri', '46. Casablanca', '47. The Intouchables', '48. Modern Times', '49. Cinema Paradiso', '50. Once Upon a Time in the West', '51. Rear Window', '52. Alien', '53. City Lights', '54. Apocalypse Now', '55. Django Unchained', '56. Memento', '57. Raiders of the Lost Ark', '58. WALL·E', '59. The Lives of Others', '60. Sunset Blvd.', '61. Paths of Glory', '62. Avengers: Infinity War', '63. The Shining', '64. Spider-Man: Into the Spider-Verse', '65. Witness for the Prosecution', '66. The Great Dictator', '67. Oppenheimer', '68. Aliens', '69. Inglourious Basterds', '70. The Dark Knight Rises', '71. American Beauty', '72. Dr. Strangelove or: How I Learned to Stop Worrying and Love the Bomb', '73. Oldboy', '74. Coco', '75. Amadeus', '76. Toy Story', '77. Das Boot', '78. Braveheart', '79. Avengers: Endgame', '80. Joker', '81. Princess Mononoke', '82. Good Will Hunting', '83. Your Name.', '84. Once Upon a Time in America', '85. 3 Idiots', '86. High and Low', \"87. Singin' in the Rain\", '88. Capernaum', '89. Requiem for a Dream', '90. Come and See', '91. Toy Story 3', '92. Star Wars: Episode VI - Return of the Jedi', '93. Eternal Sunshine of the Spotless Mind', '94. 2001: A Space Odyssey', '95. The Hunt', '96. Reservoir Dogs', '97. Ikiru', '98. Lawrence of Arabia', '99. The Apartment', '100. Citizen Kane', '101. M', '102. North by Northwest', '103. Vertigo', '104. Double Indemnity', '105. Scarface', '106. Amélie', '107. Full Metal Jacket', '108. Incendies', '109. A Clockwork Orange', '110. Heat', '111. Up', '112. To Kill a Mockingbird', '113. The Sting', '114. A Separation', '115. Hamilton', '116. Indiana Jones and the Last Crusade', '117. Die Hard', '118. Metropolis', '119. Like Stars on Earth', '120. Snatch', '121. L.A. Confidential', '122. Bicycle Thieves', '123. 1917', '124. Taxi Driver', '125. Downfall', '126. Dangal', '127. For a Few Dollars More', '128. Batman Begins', '129. Top Gun: Maverick', '130. Some Like It Hot', '131. The Kid', '132. The Wolf of Wall Street', '133. The Father', '134. Green Book', '135. All About Eve', '136. Judgment at Nuremberg', '137. The Truman Show', '138. There Will Be Blood', '139. Casino', '140. Shutter Island', '141. Ran', '142. Jurassic Park', \"143. Pan's Labyrinth\", '144. The Sixth Sense', '145. Unforgiven', '146. A Beautiful Mind', '147. No Country for Old Men', '148. Yojimbo', '149. The Treasure of the Sierra Madre', '150. Kill Bill: Vol. 1', '151. The Thing', '152. Monty Python and the Holy Grail', '153. The Great Escape', '154. Finding Nemo', '155. Rashomon', '156. The Elephant Man', '157. Chinatown', \"158. Howl's Moving Castle\", '159. Dial M for Murder', '160. Gone with the Wind', '161. Prisoners', '162. V for Vendetta', '163. Raging Bull', '164. Lock, Stock and Two Smoking Barrels', '165. The Secret in Their Eyes', '166. Inside Out', '167. Spider-Man: No Way Home', '168. Three Billboards Outside Ebbing, Missouri', '169. Trainspotting', '170. The Bridge on the River Kwai', '171. Fargo', '172. Warrior', '173. Catch Me If You Can', '174. Gran Torino', '175. Klaus', '176. My Neighbor Totoro', '177. Million Dollar Baby', '178. Harry Potter and the Deathly Hallows: Part 2', '179. Children of Heaven', '180. Blade Runner', '181. 12 Years a Slave', '182. Before Sunrise', '183. The Grand Budapest Hotel', '184. Ben-Hur', '185. Barry Lyndon', '186. The Gold Rush', '187. Gone Girl', '188. Hacksaw Ridge', '189. In the Name of the Father', '190. Memories of Murder', '191. On the Waterfront', '192. The General', '193. The Deer Hunter', '194. Wild Tales', '195. Wild Strawberries', '196. Dead Poets Society', '197. The Third Man', '198. Mad Max: Fury Road', '199. The Wages of Fear', '200. Sherlock Jr.', '201. Monsters, Inc.', '202. Mr. Smith Goes to Washington', '203. Jaws', '204. How to Train Your Dragon', '205. Mary and Max', '206. Ford v Ferrari', '207. The Seventh Seal', '208. Room', '209. Ratatouille', '210. The Big Lebowski', '211. Tokyo Story', '212. Rocky', '213. Hotel Rwanda', '214. Logan', '215. Spotlight', '216. Platoon', '217. The Passion of Joan of Arc', '218. The Terminator', '219. Before Sunset', '220. Jai Bhim', '221. Rush', '222. Network', '223. The Best Years of Our Lives', '224. The Exorcist', '225. Stand by Me', '226. La haine', '227. Pirates of the Caribbean: The Curse of the Black Pearl', '228. The Wizard of Oz', '229. The Incredibles', '230. Into the Wild', \"231. Hachi: A Dog's Tale\", '232. The Handmaiden', '233. To Be or Not to Be', '234. My Father and My Son', '235. Groundhog Day', '236. The Battle of Algiers', '237. The Grapes of Wrath', '238. The Sound of Music', '239. Amores Perros', '240. Rebecca', '241. Cool Hand Luke', '242. The Iron Giant', '243. The Help', '244. It Happened One Night', '245. Pather Panchali', '246. The 400 Blows', '247. Aladdin', '248. Dances with Wolves', '249. Life of Brian', '250. Persona', 'Top Box Office (US)', 'Most Popular Movies', 'Top Rated English Movies', 'Most Popular TV Shows', 'Top 250 TV Shows', 'Lowest Rated Movies', 'Most Popular Celebs', 'Movie News']\n"
     ]
    }
   ],
   "source": [
    "from selenium import webdriver\n",
    "from selenium.webdriver.chrome.service import Service as ChromeService\n",
    "from selenium.webdriver.common.by import By\n",
    "from selenium.webdriver.chrome.options import Options\n",
    "\n",
    "# IMDb Top 250 URL\n",
    "url_imdb_top_250 = \"https://www.imdb.com/chart/top\"\n",
    "\n",
    "# Set up Chrome options\n",
    "chrome_options = Options()\n",
    "# Uncomment the line below if you want to run Chrome in headless mode (without opening a visible browser window)\n",
    "# chrome_options.add_argument(\"--headless\")\n",
    "\n",
    "# Start the ChromeDriver service\n",
    "service = ChromeService()\n",
    "\n",
    "# Launch the Chrome browser using the service\n",
    "driver = webdriver.Chrome(service=service, options=chrome_options)\n",
    "\n",
    "# Navigate to IMDb Top 250 URL\n",
    "driver.get(url_imdb_top_250)\n",
    "\n",
    "# Find the movie title elements using Selenium's find_elements method\n",
    "movie_title_elements = driver.find_elements(By.CSS_SELECTOR, \"a h3\")\n",
    "\n",
    "\n",
    "# Extract movie titles from the elements\n",
    "movie_titles_imdb = [element.text.strip() for element in movie_title_elements]\n",
    "\n",
    "# Print the list of movie titles from IMDb Top 250\n",
    "print(\"Movie titles from IMDb Top 250:\")\n",
    "print(movie_titles_imdb)\n",
    "\n",
    "# Close the browser\n",
    "driver.quit()"
   ]
  },
  {
   "cell_type": "code",
   "execution_count": 18,
   "metadata": {},
   "outputs": [
    {
     "name": "stdout",
     "output_type": "stream",
     "text": [
      "['The Shawshank Redemption', 'The Godfather', 'The Dark Knight', 'The Godfather Part II', '12 Angry Men', \"Schindler's List\", 'The Lord of the Rings: The Return of the King', 'Pulp Fiction', 'The Lord of the Rings: The Fellowship of the Ring', 'The Good, the Bad and the Ugly', 'Forrest Gump', 'Fight Club', 'The Lord of the Rings: The Two Towers', 'Inception', 'Star Wars: Episode V - The Empire Strikes Back', 'The Matrix', 'Goodfellas', \"One Flew Over the Cuckoo's Nest\", 'Se7en', \"It's a Wonderful Life\", 'Seven Samurai', 'Interstellar', 'The Silence of the Lambs', 'Saving Private Ryan', 'City of God', 'Life Is Beautiful', 'The Green Mile', 'Spider-Man: Across the Spider-Verse', 'Star Wars: Episode IV - A New Hope', 'Terminator 2: Judgment Day', 'Back to the Future', 'Spirited Away', 'The Pianist', 'Psycho', 'Parasite', 'Gladiator', 'The Lion King', 'Léon: The Professional', 'American History X', 'The Departed', 'Whiplash', 'The Prestige', 'Grave of the Fireflies', 'The Usual Suspects', 'Harakiri', 'Casablanca', 'The Intouchables', 'Modern Times', 'Cinema Paradiso', 'Once Upon a Time in the West', 'Rear Window', 'Alien', 'City Lights', 'Apocalypse Now', 'Django Unchained', 'Memento', 'Raiders of the Lost Ark', 'WALL·E', 'The Lives of Others', 'Sunset Blvd.', 'Paths of Glory', 'Avengers: Infinity War', 'The Shining', 'Spider-Man: Into the Spider-Verse', 'Witness for the Prosecution', 'The Great Dictator', 'Oppenheimer', 'Aliens', 'Inglourious Basterds', 'The Dark Knight Rises', 'American Beauty', 'DrStrangelove or: How I Learned to Stop Worrying and Love the Bomb', 'Oldboy', 'Coco', 'Amadeus', 'Toy Story', 'Das Boot', 'Braveheart', 'Avengers: Endgame', 'Joker', 'Princess Mononoke', 'Good Will Hunting', 'Your Name.', 'Once Upon a Time in America', '3 Idiots', 'High and Low', \"Singin' in the Rain\", 'Capernaum', 'Requiem for a Dream', 'Come and See', 'Toy Story 3', 'Star Wars: Episode VI - Return of the Jedi', 'Eternal Sunshine of the Spotless Mind', '2001: A Space Odyssey', 'The Hunt', 'Reservoir Dogs', 'Ikiru', 'Lawrence of Arabia', 'The Apartment', 'Citizen Kane', 'M', 'North by Northwest', 'Vertigo', 'Double Indemnity', 'Scarface', 'Amélie', 'Full Metal Jacket', 'Incendies', 'A Clockwork Orange', 'Heat', 'Up', 'To Kill a Mockingbird', 'The Sting', 'A Separation', 'Hamilton', 'Indiana Jones and the Last Crusade', 'Die Hard', 'Metropolis', 'Like Stars on Earth', 'Snatch', 'L.AConfidential', 'Bicycle Thieves', '1917', 'Taxi Driver', 'Downfall', 'Dangal', 'For a Few Dollars More', 'Batman Begins', 'Top Gun: Maverick', 'Some Like It Hot', 'The Kid', 'The Wolf of Wall Street', 'The Father', 'Green Book', 'All About Eve', 'Judgment at Nuremberg', 'The Truman Show', 'There Will Be Blood', 'Casino', 'Shutter Island', 'Ran', 'Jurassic Park', \"Pan's Labyrinth\", 'The Sixth Sense', 'Unforgiven', 'A Beautiful Mind', 'No Country for Old Men', 'Yojimbo', 'The Treasure of the Sierra Madre', 'Kill Bill: Vol1', 'The Thing', 'Monty Python and the Holy Grail', 'The Great Escape', 'Finding Nemo', 'Rashomon', 'The Elephant Man', 'Chinatown', \"Howl's Moving Castle\", 'Dial M for Murder', 'Gone with the Wind', 'Prisoners', 'V for Vendetta', 'Raging Bull', 'Lock, Stock and Two Smoking Barrels', 'The Secret in Their Eyes', 'Inside Out', 'Spider-Man: No Way Home', 'Three Billboards Outside Ebbing, Missouri', 'Trainspotting', 'The Bridge on the River Kwai', 'Fargo', 'Warrior', 'Catch Me If You Can', 'Gran Torino', 'Klaus', 'My Neighbor Totoro', 'Million Dollar Baby', 'Harry Potter and the Deathly Hallows: Part 2', 'Children of Heaven', 'Blade Runner', '12 Years a Slave', 'Before Sunrise', 'The Grand Budapest Hotel', 'Ben-Hur', 'Barry Lyndon', 'The Gold Rush', 'Gone Girl', 'Hacksaw Ridge', 'In the Name of the Father', 'Memories of Murder', 'On the Waterfront', 'The General', 'The Deer Hunter', 'Wild Tales', 'Wild Strawberries', 'Dead Poets Society', 'The Third Man', 'Mad Max: Fury Road', 'The Wages of Fear', 'Sherlock Jr.', 'Monsters, Inc.', 'MrSmith Goes to Washington', 'Jaws', 'How to Train Your Dragon', 'Mary and Max', 'Ford v Ferrari', 'The Seventh Seal', 'Room', 'Ratatouille', 'The Big Lebowski', 'Tokyo Story', 'Rocky', 'Hotel Rwanda', 'Logan', 'Spotlight', 'Platoon', 'The Passion of Joan of Arc', 'The Terminator', 'Before Sunset', 'Jai Bhim', 'Rush', 'Network', 'The Best Years of Our Lives', 'The Exorcist', 'Stand by Me', 'La haine', 'Pirates of the Caribbean: The Curse of the Black Pearl', 'The Wizard of Oz', 'The Incredibles', 'Into the Wild', \"Hachi: A Dog's Tale\", 'The Handmaiden', 'To Be or Not to Be', 'My Father and My Son', 'Groundhog Day', 'The Battle of Algiers', 'The Grapes of Wrath', 'The Sound of Music', 'Amores Perros', 'Rebecca', 'Cool Hand Luke', 'The Iron Giant', 'The Help', 'It Happened One Night', 'Pather Panchali', 'The 400 Blows', 'Aladdin', 'Dances with Wolves', 'Life of Brian', 'Persona', 'Top Box Office (US)', 'Most Popular Movies', 'Top Rated English Movies', 'Most Popular TV Shows', 'Top 250 TV Shows', 'Lowest Rated Movies', 'Most Popular Celebs', 'Movie News']\n"
     ]
    }
   ],
   "source": [
    "#removing the \"1. \" \"2. \"\n",
    "i=1\n",
    "for movie_name in movie_titles_imdb:\n",
    "    movie_titles_imdb[i-1]=movie_name.replace(str(i),\"\")\n",
    "    i=i+1\n",
    "i=1\n",
    "for movie_name in movie_titles_imdb:\n",
    "    movie_titles_imdb[i-1]=movie_name.replace(\". \",\"\")\n",
    "    i=i+1\n",
    "print(movie_titles_imdb)"
   ]
  },
  {
   "cell_type": "markdown",
   "metadata": {},
   "source": [
    "Collecting list of movies from specific genres from imdb"
   ]
  },
  {
   "cell_type": "code",
   "execution_count": 19,
   "metadata": {},
   "outputs": [],
   "source": [
    "genre = \"Action\""
   ]
  },
  {
   "cell_type": "code",
   "execution_count": 11,
   "metadata": {},
   "outputs": [],
   "source": [
    "from selenium import webdriver\n",
    "from selenium.webdriver.chrome.service import Service as ChromeService\n",
    "from selenium.webdriver.common.by import By\n",
    "from selenium.webdriver.chrome.options import Options\n",
    "\n",
    "def get_movie_titles_imdb_by_genre(genre):\n",
    "    # IMDb Top 250 URL\n",
    "    print(genre)\n",
    "    url_imdb_genre = f\"https://www.imdb.com/search/title/?genres={genre}&explore=genres&title_type=feature&ref_=ft_movie_0\"\n",
    "    # print(url_imdb_genre)\n",
    "    # Set up Chrome options\n",
    "    chrome_options = Options()\n",
    "    # Uncomment the line below if you want to run Chrome in headless mode (without opening a visible browser window)\n",
    "    # chrome_options.add_argument(\"--headless\")\n",
    "\n",
    "    # Start the ChromeDriver service\n",
    "    service = ChromeService()\n",
    "\n",
    "    # Launch the Chrome browser using the service\n",
    "    driver = webdriver.Chrome(service=service, options=chrome_options)\n",
    "\n",
    "    # Navigate to IMDb Top 250 URL\n",
    "    driver.get(url_imdb_genre)\n",
    "\n",
    "    # Find the movie title elements using Selenium's find_elements method\n",
    "    movie_title_elements = driver.find_elements(By.CSS_SELECTOR, \".ipc-title-link-wrapper h3.ipc-title__text\")\n",
    "    print(movie_title_elements)\n",
    "    # Extract movie titles from the elements\n",
    "    movie_titles_imdb_genre = [element.text.strip() for element in movie_title_elements]\n",
    "\n",
    "    # Close the browser\n",
    "    driver.quit()\n",
    "\n",
    "    return movie_titles_imdb_genre"
   ]
  },
  {
   "cell_type": "code",
   "execution_count": null,
   "metadata": {},
   "outputs": [],
   "source": [
    "movie_titles_imdb_genre=[]\n",
    "for genre in data_array:\n",
    "    movie_titles_imdb_genre.append(get_movie_titles_imdb_by_genre(genre))\n",
    "print(movie_titles_imdb_genre)\n",
    "movie_titles_imdb_genre_new=[]\n",
    "for item in movie_titles_imdb_genre:\n",
    "    movie_titles_imdb_genre_new += movie_titles_imdb_genre[0]\n",
    "movie_titles_imdb_genre=movie_titles_imdb_genre_new\n",
    "print((movie_titles_imdb_genre))"
   ]
  },
  {
   "cell_type": "markdown",
   "metadata": {},
   "source": [
    "using selenium and webdriver to extract titles for popular movies on rotten tomatoes"
   ]
  },
  {
   "cell_type": "code",
   "execution_count": 13,
   "metadata": {},
   "outputs": [
    {
     "name": "stdout",
     "output_type": "stream",
     "text": [
      "Movie names from Rotten Tomatoes:\n",
      "['Leave the World Behind', 'Rebel Moon: Part One - A Child of Fire', 'The Holdovers', 'Killers of the Flower Moon', 'May December', 'The Family Plan', 'The Hunger Games: The Ballad of Songbirds & Snakes', 'Chicken Run: Dawn of the Nugget', 'Maestro', 'A Disturbance in The Force', 'Four Daughters', 'Oppenheimer', 'Barbie', 'Under the Influencer', 'Finestkind', 'Gran Turismo: Based on a True Story', \"Mr. Monk's Last Case: A Monk Movie\", 'The Creator', 'Candy Cane Lane', 'Lady Ballers', 'Indiana Jones and the Dial of Destiny', 'Dream Scenario', 'Immediate Family', 'Priscilla', \"Five Nights at Freddy's\", 'Love and Monsters', 'The Killer', 'Past Lives']\n"
     ]
    }
   ],
   "source": [
    "from selenium import webdriver\n",
    "from selenium.webdriver.chrome.service import Service as ChromeService\n",
    "from selenium.webdriver.common.by import By\n",
    "from selenium.webdriver.chrome.options import Options\n",
    "\n",
    "# Rotten Tomatoes URL\n",
    "url_rotten_tomatoes = \"https://www.rottentomatoes.com/browse/movies_at_home/sort:popular\"\n",
    "\n",
    "# Set up Chrome options\n",
    "chrome_options = Options()\n",
    "# Uncomment the line below if you want to run Chrome in headless mode (without opening a visible browser window)\n",
    "chrome_options.add_argument(\"--headless\")\n",
    "\n",
    "# Start the ChromeDriver service\n",
    "service = ChromeService()\n",
    "\n",
    "# Launch the Chrome browser using the service\n",
    "driver = webdriver.Chrome(service=service, options=chrome_options)\n",
    "\n",
    "# Navigate to Rotten Tomatoes URL\n",
    "driver.get(url_rotten_tomatoes)\n",
    "\n",
    "# Find the movie name elements using Selenium's find_elements method and the appropriate CSS selector\n",
    "movie_name_elements = driver.find_elements(By.CSS_SELECTOR, \"span.p--small[data-qa='discovery-media-list-item-title']\")\n",
    "\n",
    "# Extract movie names from the elements\n",
    "movie_names_rotten_tomatoes = [element.text.strip() for element in movie_name_elements]\n",
    "\n",
    "# Print the list of movie names from Rotten Tomatoes\n",
    "print(\"Movie names from Rotten Tomatoes:\")\n",
    "print(movie_names_rotten_tomatoes)\n",
    "\n",
    "# Close the browser\n",
    "driver.quit()\n"
   ]
  },
  {
   "cell_type": "markdown",
   "metadata": {},
   "source": [
    "using selenium and webdriver to extract titles for popular movies on metacritic"
   ]
  },
  {
   "cell_type": "code",
   "execution_count": 14,
   "metadata": {},
   "outputs": [
    {
     "name": "stdout",
     "output_type": "stream",
     "text": [
      "Movie names from Metacritic:\n",
      "[]\n"
     ]
    }
   ],
   "source": [
    "from selenium import webdriver\n",
    "from selenium.webdriver.chrome.service import Service as ChromeService\n",
    "from selenium.webdriver.common.by import By\n",
    "from selenium.webdriver.chrome.options import Options\n",
    "\n",
    "# Metacritic URL\n",
    "url_metacritic = \"https://www.metacritic.com/browse/movies/score/metascore/all/filtered?sort=desc\"\n",
    "\n",
    "# Set up Chrome options\n",
    "chrome_options = Options()\n",
    "# Uncomment the line below if you want to run Chrome in headless mode (without opening a visible browser window)\n",
    "chrome_options.add_argument(\"--headless\")\n",
    "\n",
    "# Start the ChromeDriver service\n",
    "service = ChromeService()\n",
    "\n",
    "# Launch the Chrome browser using the service\n",
    "driver = webdriver.Chrome(service=service, options=chrome_options)\n",
    "\n",
    "# Navigate to Metacritic URL\n",
    "driver.get(url_metacritic)\n",
    "\n",
    "# Find the movie name elements using Selenium's find_elements method and the appropriate CSS selector\n",
    "movie_name_elements = driver.find_elements(By.CSS_SELECTOR, \"a h3\")\n",
    "\n",
    "# Extract movie names from the elements\n",
    "movie_names_metacritic = [element.text.strip() for element in movie_name_elements]\n",
    "\n",
    "# Print the list of movie names from Metacritic\n",
    "print(\"Movie names from Metacritic:\")\n",
    "print(movie_names_metacritic)\n",
    "\n",
    "# Close the browser\n",
    "driver.quit()\n"
   ]
  },
  {
   "cell_type": "markdown",
   "metadata": {},
   "source": [
    "Collecting list of movies from specific genres from Metacritic"
   ]
  },
  {
   "cell_type": "code",
   "execution_count": 15,
   "metadata": {},
   "outputs": [],
   "source": [
    "# genre = \"action\""
   ]
  },
  {
   "cell_type": "code",
   "execution_count": 16,
   "metadata": {},
   "outputs": [],
   "source": [
    "# from selenium import webdriver\n",
    "# from selenium.webdriver.chrome.service import Service as ChromeService\n",
    "# from selenium.webdriver.common.by import By\n",
    "# from selenium.webdriver.chrome.options import Options\n",
    "\n",
    "# # Metacritic URL\n",
    "# url_metacritic_genre = \"https://www.metacritic.com/browse/movies/genre/metascore/\" + str(genre)\n",
    "\n",
    "# # Set up Chrome options\n",
    "# chrome_options = Options()\n",
    "# # Uncomment the line below if you want to run Chrome in headless mode (without opening a visible browser window)\n",
    "# chrome_options.add_argument(\"--headless\")\n",
    "\n",
    "# # Start the ChromeDriver service\n",
    "# service = ChromeService()\n",
    "\n",
    "# # Launch the Chrome browser using the service\n",
    "# driver = webdriver.Chrome(service=service, options=chrome_options)\n",
    "\n",
    "# # Navigate to Metacritic URL\n",
    "# driver.get(url_metacritic_genre)\n",
    "\n",
    "# # Find the movie name elements using Selenium's find_elements method and the appropriate CSS selector\n",
    "# movie_name_elements = driver.find_elements(By.CSS_SELECTOR, \"a h3\")\n",
    "\n",
    "# # Extract movie names from the elements\n",
    "# movie_names_metacritic_genre = [element.text.strip() for element in movie_name_elements]\n",
    "\n",
    "# # Print the list of movie names from Metacritic\n",
    "# print(\"Movie names from Metacritic by Genre:\")\n",
    "# print(movie_names_metacritic_genre)\n",
    "\n",
    "# # Close the browser\n",
    "# driver.quit()"
   ]
  },
  {
   "cell_type": "markdown",
   "metadata": {},
   "source": [
    "Making a Final list of movies of by combining all"
   ]
  },
  {
   "cell_type": "code",
   "execution_count": null,
   "metadata": {},
   "outputs": [],
   "source": [
    "final_movie_list = movie_titles_imdb + movie_titles_imdb_genre + movie_names_rotten_tomatoes + movie_names_metacritic #+ movie_names_metacritic_genre \n",
    "print(len(final_movie_list))\n",
    "print(type(final_movie_list))"
   ]
  },
  {
   "cell_type": "code",
   "execution_count": null,
   "metadata": {},
   "outputs": [],
   "source": [
    "#removing duplicates\n",
    "unique_movie_list = []\n",
    "for movie in final_movie_list:\n",
    "    if movie not in unique_movie_list:\n",
    "        unique_movie_list.append(movie)\n",
    "final_movie_list=unique_movie_list\n",
    "final_movie_list.append(input_movie_name)\n",
    "print(len(final_movie_list))"
   ]
  },
  {
   "cell_type": "markdown",
   "metadata": {},
   "source": [
    "Using API to extract movie features"
   ]
  },
  {
   "cell_type": "markdown",
   "metadata": {},
   "source": [
    "Using imdb api whose all features aren't available easily"
   ]
  },
  {
   "cell_type": "code",
   "execution_count": null,
   "metadata": {},
   "outputs": [],
   "source": [
    "# import imdb\n",
    "# ia = imdb.IMDb()\n",
    "# load_movie_match=ia.search_movie(\"3 Idiots\") #load movie is a dictionary\n",
    "# movie=load_movie_match[0] #load the data into movie of the 1st returned result which is matched most closely\n",
    "# movie_id=movie.movieID\n",
    "# load_movie=ia.get_movie(movie_id)\n",
    "# title=load_movie['title'] #this and .get() both return list not int or str\n",
    "# year = load_movie['year']\n",
    "# rating = load_movie['rating']\n",
    "# genre = load_movie['genre']\n",
    "# main_cast = [actor['name'] for actor in load_movie.get('cast')[:3]] # can't to the same as director as this is a dictionary\n",
    "# director = load_movie['director'][0]['name']\n",
    "# opening_weekend = load_movie.get('box office', {}).get('Opening Weekend', 'N/A') #use the .get() as it also gives option to return something if nothing is found\n",
    "# budget = load_movie.get('budget', 'N/A')\n",
    "# runtime = load_movie.get('runtime', 'N/A')\n",
    "# print(runtime)\n",
    "# hours = int(int(runtime[0])/60)\n",
    "# print(hours)\n",
    "# new_runtime = str(hours) + \" hr \" + str(int(runtime[0]) - (60*hours)) + \" min\"\n",
    "\n",
    "# print(str(title) + \" released in the year: \" + str(year) + \" under the genre: \" + str(genre) + \" with the cast: \" + str(cast))\n",
    "# print(rating)\n",
    "# print(main_cast)\n",
    "# print(director)\n",
    "# print(opening_weekend)\n",
    "# print(budget)\n",
    "# print(new_runtime)\n"
   ]
  },
  {
   "cell_type": "markdown",
   "metadata": {},
   "source": [
    "making a requests code to send requests to site to collect data for a given movie using omdb api"
   ]
  },
  {
   "cell_type": "code",
   "execution_count": null,
   "metadata": {},
   "outputs": [],
   "source": [
    "# import requests\n",
    "\n",
    "# # https://www.omdbapi.com/?t=3+Idiots&y=2009&plot=full&apikey=c71443cd\n",
    "# # Replace 'YOUR_API_KEY' with your actual OMDB API key\n",
    "# api_key = 'c71443cd'\n",
    "\n",
    "# # Movie title you want to search for\n",
    "# movie_name = 'Interstellar'\n",
    "# movie_name = movie_name.replace(' ','+')\n",
    "\n",
    "# # URL of the OMDB API\n",
    "# url = f'http://www.omdbapi.com/?t={movie_name}&plot=full&apikey={api_key}' #full to get a full fleged description\n",
    "\n",
    "# # Make the API request\n",
    "# response = requests.get(url)\n",
    "# movie_data = response.json() #dictionary\n",
    "\n",
    "# # # Iterate over the dictionary items and print them line by line\n",
    "# # for key, value in movie_data.items():\n",
    "# #     print(f\"{key}: {value}\")\n",
    "\n",
    "# # Check if the request was successful\n",
    "# if response.status_code == 200:\n",
    "#     # Parse the JSON response\n",
    "#     movie_data = response.json()\n",
    "\n",
    "#     # Check if the movie was found\n",
    "#     if movie_data['Response'] == 'True':\n",
    "#         # Extract the movie details from the response\n",
    "#         title = movie_data['Title']\n",
    "#         year = movie_data['Year']\n",
    "#         runtime = movie_data['Runtime']\n",
    "#         # #converting runtime into hours:minutes\n",
    "#         # print(runtime)\n",
    "#         # print(type(runtime))\n",
    "#         # hours = int(int(runtime[0])/60)\n",
    "#         # print(hours)\n",
    "#         # new_runtime = str(hours) + \" hr \" + str(int(runtime[0]) - (60*hours)) + \" min\"\n",
    "#         genre = movie_data['Genre']\n",
    "#         director = movie_data['Director']\n",
    "#         main_cast = movie_data['Actors']\n",
    "#         #may plan to use the plot to deduce similarities with others using some AI on the text\n",
    "#         language = movie_data['Language']\n",
    "#         ratings_imdb = movie_data['imdbRating']\n",
    "#         ratings_rotten_tomatoes = movie_data['Ratings'][1]['Value']\n",
    "#         ratings_metacritic = movie_data['Ratings'][2]['Value']\n",
    "#         people_votes = movie_data['imdbVotes']\n",
    "#         total_box_office = movie_data['BoxOffice']\n",
    "#         # now printing a string]\n",
    "#         #print(str(title) + \" and \" + str(year) + \" and \" + str(new_runtime) + \" and \" + str(genre) + \" and \" + str(director) + \" and \" + str(main_cast) + \" and \" + str(language) + \" and \" + str(ratings_imdb) + \" and \" + str(ratings_rotten_tomatoes) + \" and \" + str(ratings_metacritic) + \" and \" + str(people_votes) + \" and \" + str(total_box_office))\n",
    "#         final_movie_data = [title, genre, year, runtime, director, main_cast, ratings_imdb, ratings_rotten_tomatoes, ratings_metacritic, language, people_votes, total_box_office]\n",
    "#         print(final_movie_data)\n",
    "# else:\n",
    "#     print(\"Error: Unable to fetch movie details.\")\n"
   ]
  },
  {
   "cell_type": "markdown",
   "metadata": {},
   "source": [
    "now making a function in which we pass the movie name and returns a list which a collection of features of a given movie"
   ]
  },
  {
   "cell_type": "code",
   "execution_count": null,
   "metadata": {},
   "outputs": [],
   "source": [
    "import requests\n",
    "\n",
    "def get_movie_details(movie_name):\n",
    "    # Replace 'YOUR_API_KEY' with your actual OMDB API key\n",
    "    api_key = 'c71443cd'\n",
    "    \n",
    "    # Modify movie_name to have '+' instead of spaces to use in the URL\n",
    "    movie_name = movie_name.replace(' ', '+')\n",
    "    \n",
    "    # URL of the OMDB API\n",
    "    url = f'http://www.omdbapi.com/?t={movie_name}&plot=full&apikey={api_key}'\n",
    "    \n",
    "    # Make the API request\n",
    "    response = requests.get(url)\n",
    "    \n",
    "    # Check if the request was successful\n",
    "    if response.status_code == 200:\n",
    "        # Parse the JSON response\n",
    "        movie_data = response.json()\n",
    "\n",
    "         # Extract the movie details from the response\n",
    "        title = movie_data.get('Title', None)\n",
    "        year = movie_data.get('Year', None)\n",
    "        runtime = movie_data.get('Runtime', None)\n",
    "        genre = movie_data.get('Genre', None)\n",
    "        director = movie_data.get('Director', None)\n",
    "        main_cast = movie_data.get('Actors', None)\n",
    "        language = movie_data.get('Language', None)\n",
    "        # Check if 'Ratings' key is available and has sufficient data\n",
    "        if 'Ratings' in movie_data:\n",
    "            if len(movie_data['Ratings']) > 1:\n",
    "                ratings_rotten_tomatoes = movie_data['Ratings'][1].get('Value', None)\n",
    "            else:\n",
    "                ratings_rotten_tomatoes = None\n",
    "\n",
    "            if len(movie_data['Ratings']) > 2:\n",
    "                ratings_metacritic = movie_data['Ratings'][2].get('Value', None)\n",
    "            else:\n",
    "                ratings_metacritic = None\n",
    "        else:\n",
    "            # If 'Ratings' key is missing, set ratings_rotten_tomatoes and ratings_metacritic to None\n",
    "            ratings_rotten_tomatoes = None\n",
    "            ratings_metacritic = None\n",
    "        ratings_imdb = movie_data.get('imdbRating', None)\n",
    "        # ratings_rotten_tomatoes = movie_data['Ratings'][1].get('Value', None) if len(movie_data['Ratings']) > 1 else None\n",
    "        # ratings_metacritic = movie_data['Ratings'][2].get('Value', None) if len(movie_data['Ratings']) > 2 else None\n",
    "        people_votes = movie_data.get('imdbVotes', None)\n",
    "        total_box_office = movie_data.get('BoxOffice', None)\n",
    "\n",
    "            # Create the final movie data list\n",
    "        final_movie_data = [title, genre, year, runtime, director, main_cast, ratings_imdb, ratings_rotten_tomatoes, ratings_metacritic, language, people_votes, total_box_office, '0']\n",
    "\n",
    "        return final_movie_data\n",
    "    else:\n",
    "        print(\"Error: Unable to fetch movie details.\")\n",
    "        return None\n"
   ]
  },
  {
   "cell_type": "markdown",
   "metadata": {},
   "source": [
    "A test function to test on a movie"
   ]
  },
  {
   "cell_type": "code",
   "execution_count": null,
   "metadata": {},
   "outputs": [],
   "source": [
    "\n",
    "# Test the function\n",
    "movie_name = \"The Lord of the Rings: The Return of the King\"\n",
    "movie_data_list = get_movie_details(movie_name)\n",
    "print(movie_data_list)\n",
    "movie_input=input(\"Enter movie name to extract its feature else write NO: \")\n",
    "def get_movie_feature(movie):\n",
    "    if movie_input == \"NO\":\n",
    "        pass\n",
    "    else:\n",
    "        print(get_movie_details(movie))\n",
    "get_movie_details(movie_input)\n",
    "\n"
   ]
  },
  {
   "cell_type": "markdown",
   "metadata": {
    "id": "zW9mTdlHHeIg"
   },
   "source": [
    "forming csv file with data"
   ]
  },
  {
   "cell_type": "code",
   "execution_count": null,
   "metadata": {},
   "outputs": [],
   "source": [
    "import csv\n",
    "\n",
    "# final_movie_list = ['Goodfellas', 'Scarface', 'Interstellar']\n",
    "# final_movie_list.append(input_movie_name)\n",
    "\n",
    "movie_compiled_data = []\n",
    "print(final_movie_list)\n",
    "\n",
    "for movie in final_movie_list:\n",
    "    movie_compiled_data.append(get_movie_details(movie))\n",
    "#created a list of list with elements themselves being list been features of movie\n",
    "\n",
    "print(movie_compiled_data)\n",
    "# Define the CSV file name, csv_file is the variable name that is to be used in code\n",
    "csv_file = 'movies_data.csv'\n",
    "\n",
    "# Write the data to the CSV file\n",
    "with open(csv_file, 'w', newline='', encoding='utf-8') as file:\n",
    "    writer = csv.writer(file)\n",
    "\n",
    "    # Write the header row\n",
    "    writer.writerow(['Movie Name', 'Genre', 'Year', 'Runtime', 'Director', 'Cast', 'IMDb', 'Rotten', 'Metacritic', 'Language', 'Votes', 'BoxOffice', 'final_similarity_value'])\n",
    "\n",
    "    # Write the movie data\n",
    "    writer.writerows(movie_compiled_data)\n",
    "\n",
    "print(f\"{csv_file} has been successfully created.\")\n"
   ]
  },
  {
   "cell_type": "markdown",
   "metadata": {
    "id": "CNTGRM92LZZo"
   },
   "source": [
    "generating similarity values -> generating recommended movies"
   ]
  },
  {
   "cell_type": "code",
   "execution_count": null,
   "metadata": {
    "id": "cTpgP0dZFrnv"
   },
   "outputs": [],
   "source": [
    "#read data file with pandas\n",
    "df = pd.read_csv('movies_data.csv')\n",
    "print(df)"
   ]
  },
  {
   "cell_type": "code",
   "execution_count": null,
   "metadata": {
    "id": "JHMV8Zx3MkK0"
   },
   "outputs": [],
   "source": [
    "#creating array of features\n",
    "features = np.array(['Movie Name', 'Genre', 'Year', 'Runtime', 'Director', 'Cast', 'IMDb', 'Rotten', 'Metacritic', 'Language', 'Votes', 'BoxOffice', 'final_similarity_value'])\n",
    "print(features)"
   ]
  },
  {
   "cell_type": "code",
   "execution_count": null,
   "metadata": {
    "id": "0Hb13PCiN_93"
   },
   "outputs": [],
   "source": [
    "#replacing any missing values in NaN with some 'string'\n",
    "df = df.fillna('')"
   ]
  },
  {
   "cell_type": "code",
   "execution_count": null,
   "metadata": {
    "id": "xoye9xYNSbXM"
   },
   "outputs": [],
   "source": [
    "# Initialize TfidfVectorizer\n",
    "vectorizer = TfidfVectorizer(stop_words='english')"
   ]
  },
  {
   "cell_type": "code",
   "execution_count": null,
   "metadata": {
    "id": "Cg3__VyTTA-V"
   },
   "outputs": [],
   "source": [
    "# # Concatenate text-based features into a single feature\n",
    "# cat_df = df[Movie Name] + ' ' + df[Genre] + ' ' + df[Year] + ' ' + df[Runtime] + ' ' + df[Director] + ' ' + df[Cast] + ' '  + df[IMDb] + ' ' + df[Rotten] + ' ' + df[Metacritic] + ' ' + df[Language] + ' ' + df[Votes] + ' ' + df[BoxOffice]"
   ]
  },
  {
   "cell_type": "code",
   "execution_count": null,
   "metadata": {},
   "outputs": [],
   "source": [
    "# Concatenate text-based features into a single feature\n",
    "cat_df = df.apply(lambda row: ' '.join(row.astype(str)), axis=1)\n",
    "\n",
    "# Printing the concatenated feature for each row\n",
    "print(cat_df)"
   ]
  },
  {
   "cell_type": "code",
   "execution_count": null,
   "metadata": {
    "id": "di-Bt6nhTdvL"
   },
   "outputs": [],
   "source": [
    "# Vectorize the text-based features\n",
    "vectorized_df = vectorizer.fit_transform(cat_df)"
   ]
  },
  {
   "cell_type": "code",
   "execution_count": null,
   "metadata": {
    "id": "KmIrWrZmT2FY"
   },
   "outputs": [],
   "source": [
    "# Calculate similarity matrix using cosine similarity\n",
    "similarity_matrix = cosine_similarity(vectorized_df)\n",
    "print(similarity_matrix)"
   ]
  },
  {
   "cell_type": "code",
   "execution_count": null,
   "metadata": {
    "id": "wF2gLxEBInp5"
   },
   "outputs": [],
   "source": [
    "# assinging custom weights to different things\n",
    "need_custom = input(\"Do you need custom weights: \")\n",
    "if need_custom == \"NO\":\n",
    "    weights = {\n",
    "    # 'Movie Name': 1,\n",
    "    'Genre': 10,\n",
    "    'Year': 4,\n",
    "    'Runtime': 4,\n",
    "    'Director': 7,\n",
    "    'Cast': 7.5,\n",
    "    'IMDb': 6,\n",
    "    'Rotten': 5.5,\n",
    "    'Metacritic': 5,\n",
    "    'Language': 5,\n",
    "    'Votes': 7,\n",
    "    'BoxOffice': 6\n",
    "    }\n",
    "elif need_custom == \"YES\":\n",
    "    user_input = input(\"Enter values separated by spaces for Genre, Year, Runtime, Director, Cast, IMDb, Rotten, Metacritic, Language, Votes, BoxOffice: \")\n",
    "    Genre, Year, Runtime, Director, Cast, IMDb, Rotten, Metacritic, Language, Votes, BoxOffice = user_input.split()\n",
    "    #here when we take multi inputs it is taken as string then after splitting it still remains a string\n",
    "    weights = {\n",
    "        'Genre': Genre,\n",
    "    'Year': Year,\n",
    "    'Runtime': Runtime,\n",
    "    'Director': Director,\n",
    "    'Cast': Cast,\n",
    "    'IMDb': IMDb,\n",
    "    'Rotten': Rotten,\n",
    "    'Metacritic': Metacritic,\n",
    "    'Language': Language,\n",
    "    'Votes': Votes,\n",
    "    'BoxOffice': BoxOffice\n",
    "    }\n",
    "print(weights)\n",
    "print(type(weights))\n",
    "    \n"
   ]
  },
  {
   "cell_type": "code",
   "execution_count": null,
   "metadata": {
    "id": "qM-ZPAC_JPUE"
   },
   "outputs": [],
   "source": [
    "# multiplying respectives weights of features to corresponding values\n",
    "for feature,weights_v in weights.items():\n",
    "    if weights_v == None:\n",
    "        print(\"oh fuck me god\")\n",
    "for features,weight_values in weights.items():\n",
    "  print(weight_values)\n",
    "  similarity_matrix *= float(weight_values)"
   ]
  },
  {
   "cell_type": "code",
   "execution_count": null,
   "metadata": {
    "id": "remwUBK1KtjL"
   },
   "outputs": [],
   "source": [
    "# final similarity score of a particular movie\n",
    "final_similarity =  similarity_matrix.sum(axis=1)"
   ]
  },
  {
   "cell_type": "code",
   "execution_count": null,
   "metadata": {
    "id": "4uCjsmlXLIq0"
   },
   "outputs": [],
   "source": [
    "# Add the final_similarity_value as a new column in the DataFrame\n",
    "df['final_similarity_value'] = final_similarity\n",
    "\n",
    "# Sort the DataFrame by final_similarity_value in descending order\n",
    "recommended_movies = df.sort_values(by='final_similarity_value', ascending=False)"
   ]
  },
  {
   "cell_type": "code",
   "execution_count": null,
   "metadata": {
    "id": "4ngXitsSLRv6"
   },
   "outputs": [],
   "source": [
    "# Display the recommended movies with similarity scores\n",
    "print(recommended_movies)"
   ]
  },
  {
   "cell_type": "code",
   "execution_count": null,
   "metadata": {},
   "outputs": [],
   "source": [
    "import pandas as pd\n",
    "\n",
    "# Assuming you already have 'recommended_movies' DataFrame with the required data\n",
    "# You can save it to a new CSV file as follows:\n",
    "\n",
    "# Define the file path for the new CSV file\n",
    "new_csv_file_path = 'new_recommended_movies.csv'\n",
    "\n",
    "# Save the DataFrame to the new CSV file\n",
    "recommended_movies.to_csv(new_csv_file_path, index=False)\n",
    "\n",
    "print(f\"CSV file '{new_csv_file_path}' has been successfully saved.\")\n"
   ]
  },
  {
   "cell_type": "code",
   "execution_count": null,
   "metadata": {},
   "outputs": [],
   "source": [
    "#we first filter the DataFrame to get only the rows where the 'Movie Name' column is equal to \"Oppenheimer\" using recommended_movies[recommended_movies['Movie Name'] == movie_name]. \n",
    "#Then, we access the index of the first occurrence of \"Oppenheimer\" using .index[0].\n",
    "movie_name = input_movie_name\n",
    "#print(recommended_movies)\n",
    "print(df)\n",
    "sorted_df=df.sort_values(by='final_similarity_value', ascending=False)\n",
    "print(sorted_df)\n",
    "# Reset the index of the new DataFrame\n",
    "sorted_df.reset_index(drop=True, inplace=True)\n",
    "print(\"Now going to print the new data frame\")\n",
    "print(sorted_df)\n",
    "#here this sorted df is first rearraged wrt final_similarity_value and then the new indices are made to 0,1,2,3...\n",
    "index_of_input = sorted_df[sorted_df['Movie Name'] == movie_name].index[0]\n",
    "\n",
    "print(f\"The index of '{movie_name}' in the DataFrame is: {index_of_input}\")"
   ]
  },
  {
   "cell_type": "code",
   "execution_count": null,
   "metadata": {},
   "outputs": [],
   "source": [
    "# Assuming you have an index value 'index_of_input'\n",
    "start_index = max(0, index_of_input - 50)\n",
    "end_index = min(len(recommended_movies), index_of_input + 51)\n",
    "\n",
    "# Extract the 50 preceding and following rows\n",
    "new_df = sorted_df.iloc[start_index:end_index].copy()\n",
    "\n",
    "# # Reset the index of the new DataFrame\n",
    "# new_df.reset_index(drop=True, inplace=True)\n",
    "\n",
    "# Now the 'new_df' contains the 50 preceding and following rows from the 'index_of_input'\n",
    "print(new_df)\n"
   ]
  },
  {
   "cell_type": "code",
   "execution_count": null,
   "metadata": {},
   "outputs": [],
   "source": [
    "import pandas as pd\n",
    "\n",
    "# Assuming you already have 'recommended_movies' DataFrame with the required data\n",
    "# You can save it to a new CSV file as follows:\n",
    "\n",
    "# Define the file path for the new CSV file\n",
    "new_csv_file_path = '100_close_movies.csv'\n",
    "#you may run the vectorizer on these again\n",
    "\n",
    "# Save the DataFrame to the new CSV file\n",
    "new_df.to_csv(new_csv_file_path, index=False)\n",
    "\n",
    "print(f\"CSV file '{new_csv_file_path}' has been successfully saved.\")\n"
   ]
  },
  {
   "cell_type": "markdown",
   "metadata": {
    "id": "HCibGHB1SSbb"
   },
   "source": [
    "find_close_match = difflib.get_close_matches(movie_name, list_of_all_titles)\n",
    "this command is finding closest names wrt alphabetical names"
   ]
  }
 ],
 "metadata": {
  "colab": {
   "provenance": []
  },
  "kernelspec": {
   "display_name": "Python 3 (ipykernel)",
   "language": "python",
   "name": "python3"
  },
  "language_info": {
   "codemirror_mode": {
    "name": "ipython",
    "version": 3
   },
   "file_extension": ".py",
   "mimetype": "text/x-python",
   "name": "python",
   "nbconvert_exporter": "python",
   "pygments_lexer": "ipython3",
   "version": "3.11.5"
  }
 },
 "nbformat": 4,
 "nbformat_minor": 4
}
